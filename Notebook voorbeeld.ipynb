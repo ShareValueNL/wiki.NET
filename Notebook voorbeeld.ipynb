{
 "cells": [
  {
   "cell_type": "markdown",
   "metadata": {},
   "source": [
    "Dit is een eerste voorbeeld van interactieve Notebooks waar code en markdown tekst door elkaar gebruikt kunnen worden."
   ]
  },
  {
   "cell_type": "code",
   "execution_count": null,
   "metadata": {},
   "outputs": [
    {
     "name": "stdout",
     "output_type": "stream",
     "text": [
      "Hello World\r\n"
     ]
    }
   ],
   "source": [
    "Console.WriteLine(\"Hello World\");"
   ]
  },
  {
   "cell_type": "markdown",
   "metadata": {},
   "source": [
    "Een voorbeeld van het gebruik van vereenvoudigde formatting:"
   ]
  },
  {
   "cell_type": "code",
   "execution_count": null,
   "metadata": {
    "dotnet_interactive": {
     "language": "csharp"
    }
   },
   "outputs": [
    {
     "name": "stdout",
     "output_type": "stream",
     "text": [
      "Dit is tekst met een integer 100 en een afgeronde decimal 10,57 op datum 18 november 2021\r\n"
     ]
    }
   ],
   "source": [
    "string tekst = \"Dit is tekst\";\n",
    "int i = 100;\n",
    "decimal d = 10.5678M;\n",
    "DateTime datum = DateTime.Now;\n",
    "\n",
    "string output = $\"{tekst} met een integer {i} en een afgekapte decimal {d:0.00} op datum {datum:dd MMMM yyyy}\";\n",
    "Console.WriteLine(output);"
   ]
  }
 ],
 "metadata": {
  "kernelspec": {
   "display_name": ".NET (C#)",
   "language": "C#",
   "name": ".net-csharp"
  },
  "language_info": {
   "file_extension": ".cs",
   "mimetype": "text/x-csharp",
   "name": "C#",
   "pygments_lexer": "csharp",
   "version": "9.0"
  },
  "orig_nbformat": 4
 },
 "nbformat": 4,
 "nbformat_minor": 2
}
